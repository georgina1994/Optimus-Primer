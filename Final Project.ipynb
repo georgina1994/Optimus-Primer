{
 "cells": [
  {
   "cell_type": "code",
   "execution_count": null,
   "metadata": {
    "deletable": false,
    "editable": false,
    "scrolled": false
   },
   "outputs": [],
   "source": [
    "# Import #####################################################################\n",
    "import matplotlib.pyplot as plt\n",
    "import pandas as pd\n",
    "import seaborn as sns"
   ]
  },
  {
   "cell_type": "code",
   "execution_count": null,
   "metadata": {
    "code_folding": [
     101
    ],
    "deletable": false,
    "editable": false,
    "scrolled": false
   },
   "outputs": [],
   "source": [
    "# Declare Column Names #######################################################\n",
    "# Name and Code\n",
    "code                      = 'code'              # Country Code\n",
    "name                      = 'name'              # Country Name\n",
    "region                    = 'region'            # Hult Region\n",
    "cool_name                 = 'cool_name'         # Cool Name\n",
    "\n",
    "# Economic Policy & Debt - PK \n",
    "gdp_agricuture            = 'gdp_agricuture'    # Agriculture, forestry, and fishing, value added (% of GDP)\n",
    "gdp_industry              = 'gdp_industry'      # Industry (including construction), value added (% of GDP)\n",
    "gdp_services              = 'gdp_services'      # Services, value added (% of GDP)\n",
    "gdp_p                     = 'gdp_p'             # GDP (current US$)\n",
    "gdp_growth                = 'gdp_growth'        # GDP growth (annual %)\n",
    "\n",
    "# Education Input - Mable\n",
    "gov_exp_ed                = 'gov_exp_ed'        # Government expenditure on education, total (% of government expenditure)\n",
    "\n",
    "# Education Outcome - Mable\n",
    "ed_bechelor               = 'ed_bechelor'       # Educational attainment, at least Bachelor's or equivalent, \n",
    "                                                # population 25+, total (%) (cumulative)\n",
    "ed_lower_second           = 'ed_lower_second'   # Educational attainment, at least completed lower secondary, \n",
    "                                                # population 25+, total (%) (cumulative)\n",
    "ed_post_second            = 'ed_post_second'    # Educational attainment, at least completed post-secondary, \n",
    "                                                # population 25+, total (%) (cumulative)\n",
    "ed_primary                = 'ed_primary'        # Educational attainment, at least completed primary, \n",
    "                                                # population 25+ years, total (%) (cumulative)\n",
    "ed_tertiary               = 'ed_tertiary'       # Educational attainment, at least completed short-cycle tertiary, \n",
    "                                                # population 25+, total (%) (cumulative)\n",
    "ed_upper_second           = 'ed_upper_second'   # Educational attainment, at least completed upper secondary, \n",
    "                                                # population 25+, total (%) (cumulative)\n",
    "ed_master                 = 'ed_master'         # Educational attainment, at least Master's or equivalent, \n",
    "                                                # population 25+, total (%) (cumulative)\n",
    "ed_doctor                 = 'ed_doctor'         # Educational attainment, Doctoral or equivalent,\n",
    "                                                # population 25+, total (%) (cumulative)\n",
    "literacy_adult            = 'literacy_adult'    # Literacy rate, adult total (% of people ages 15 and above)\n",
    "literacy_youth            = 'literacy_youth'    # Literacy rate, youth total (% of people ages 15-24)\n",
    "\n",
    "# Environment - Matt and Georgina\n",
    "electricity_p             = 'electricity_p'     # Access to electricity (% of population)\n",
    "electricity_rural         = 'electricity_rural' # Access to electricity, rural (% of rural population)\n",
    "electricity_urban         = 'electricity_urban' # Access to electricity, urban (% of urban population)\n",
    "population_dense          = 'population_dense'  # Population density (people per sq. km of land area)\n",
    "population_l_city         = 'population_l_city' # Population in the largest city (% of urban population)\n",
    "population_slum           = 'population_slum'   # Population living in slums (% of urban population)\n",
    "population_rural          = 'population_rural'  # Rural population (% of total population)\n",
    "population_urban          = 'population_urban'  # Urban population (% of total population)\n",
    "population_urban_growth   = 'population_urban_growth'   # Urban population growth (annual %)\n",
    "area                      = 'area'              # Surface area (sq. km)\n",
    "\n",
    "# Health - Matt and Georgina\n",
    "birth_rate_young          = 'birth_rate_young'  # Adolescent fertility rate (births per 1,000 women ages 15-19)\n",
    "working_p                 = 'working_p'         # Age dependency ratio (% of working-age population)\n",
    "working_old               = 'working_old'       # Age dependency ratio, old (% of working-age population)\n",
    "working_young             = 'working_young'     # Age dependency ratio, young (% of working-age population)\n",
    "birth_rate_crude          = 'birth_rate_crude'  # Birth rate, crude (per 1,000 people)\n",
    "birth_rate_staff          = 'birth_rate_staff'  # Births attended by skilled health staff (% of total)\n",
    "fertility_rate            = 'fertility_rate'    # Fertility rate, total (births per woman)', 'GDP (current US$)\n",
    "death_rate_crude          = 'death_rate_crude'  # Death rate, crude (per 1,000 people)\n",
    "life_expect               = 'life_expect'       # Life expectancy at birth, total (years)\n",
    "ppp                       = 'ppp'               # Number of people pushed below the $3.10 ($ 2011 PPP) \n",
    "                                                # poverty line by out-of-pocket health care expenditure\n",
    "population_young          = 'population_young'  # Population ages 0-14 (% of total population)\n",
    "population_adult          = 'population_adult'  # Population ages 15-64 (% of total population)\n",
    "population_old            = 'population_old'    # Population ages 65 and above (% of total population)\n",
    "population_growth         = 'population_growth' # Population growth (annual %)\n",
    "population_female         = 'population_female' # Population, female\n",
    "population_male           = 'population_male'   # Population, male\n",
    "population_total          = 'population_total'  # Population, total\n",
    "prevalence_hiv            = 'prevalence_hiv'    # Prevalence of HIV, total (% of population ages 15-49)\n",
    "prevalence_undernourished = 'prevalence_undernourished' # Prevalence of undernourishment (% of population)\n",
    "prevalence_underweight    = 'prevalence_underweight'    # Prevalence of underweight, weight for age \n",
    "                                                        # (% of children under 5)\n",
    "\n",
    "# Infrastructure - Thiago\n",
    "mobile_sub                = 'mobile_sub'        # Mobile cellular subscriptions (per 100 people)\n",
    "\n",
    "# Poverty - Thiago\n",
    "gini                      = 'gini'              # GINI index (World Bank estimate)\n",
    "income_1                  = 'income_1'          # Income share held by lowest 20%\n",
    "income_2                  = 'income_2'          # Income share held by second 20%\n",
    "income_3                  = 'income_3'          # Income share held by third 20%\n",
    "income_4                  = 'income_4'          # Income share held by fourth 20%\n",
    "income_5                  = 'income_5'          # Income share held by highest 20%\n",
    "poverty_19                = 'poverty_19'        # Poverty headcount ratio at $1.90 a day (2011 PPP) (% of population)\n",
    "poverty_32                = 'poverty_32'        # Poverty headcount ratio at $3.20 a day (2011 PPP) (% of population)\n",
    "poverty_national          = 'poverty_national'  # Poverty headcount ratio at national poverty lines (% of population)\n",
    "\n",
    "# Private Sector & Trade - PK\n",
    "gdp_trade                 = 'gdp_trade'         # Merchandise trade (% of GDP)\n",
    "\n",
    "# Public Sector - PK\n",
    "armed_forces              = 'armed_forces'      # Armed forces personnel (% of total labor force)\n",
    "gdp_military              = 'gdp_military'      # Military expenditure (% of GDP)\n",
    "gdp_tax                   = 'gdp_tax'           # Tax revenue (% of GDP)\n",
    "\n",
    "# Social Protection & Labor - PK\n",
    "emp_agriculture           = 'emp_agriculture'   # Employment in agriculture (% of total employment) (modeled ILO estimate)\n",
    "emp_industry              = 'emp_industry'      # Employment in industry (% of total employment) (modeled ILO estimate)\n",
    "emp_services              = 'emp_services'      # Employment in services (% of total employment) (modeled ILO estimate)\n",
    "\n",
    "# Declare column names by corect order\n",
    "column_names = [code, \n",
    "                name, \n",
    "                region, \n",
    "                cool_name, \n",
    "                electricity_p, \n",
    "                electricity_rural, \n",
    "                electricity_urban, \n",
    "                birth_rate_young, \n",
    "                working_p, \n",
    "                working_old, \n",
    "                working_young, \n",
    "                gdp_agricuture, \n",
    "                armed_forces, \n",
    "                birth_rate_crude, \n",
    "                birth_rate_staff, \n",
    "                death_rate_crude, \n",
    "                ed_doctor, \n",
    "                ed_bechelor, \n",
    "                ed_master, \n",
    "                ed_lower_second, \n",
    "                ed_post_second, \n",
    "                ed_primary, \n",
    "                ed_tertiary,\n",
    "                ed_upper_second, \n",
    "                emp_agriculture, \n",
    "                emp_industry, \n",
    "                emp_services, \n",
    "                fertility_rate, \n",
    "                gdp_p, \n",
    "                gdp_growth, \n",
    "                gini, \n",
    "                gov_exp_ed, \n",
    "                income_4,\n",
    "                income_5, \n",
    "                income_1, \n",
    "                income_2, \n",
    "                income_3, \n",
    "                gdp_industry, \n",
    "                life_expect,\n",
    "                literacy_adult, \n",
    "                literacy_youth, \n",
    "                gdp_trade, \n",
    "                gdp_military, \n",
    "                mobile_sub,\n",
    "                ppp, \n",
    "                population_young, \n",
    "                population_adult, \n",
    "                population_old, \n",
    "                population_dense,\n",
    "                population_growth, \n",
    "                population_l_city,\n",
    "                population_slum,\n",
    "                population_female,\n",
    "                population_male,\n",
    "                population_total,\n",
    "                poverty_19,\n",
    "                poverty_32,\n",
    "                poverty_national,\n",
    "                prevalence_hiv,\n",
    "                prevalence_undernourished,\n",
    "                prevalence_underweight,\n",
    "                population_rural,\n",
    "                gdp_services,\n",
    "                area,\n",
    "                gdp_tax,\n",
    "                population_urban,\n",
    "                population_urban_growth]\n"
   ]
  },
  {
   "cell_type": "code",
   "execution_count": null,
   "metadata": {
    "deletable": false,
    "editable": false
   },
   "outputs": [],
   "source": [
    "# Declare Country Index ######################################################\n",
    "brunei      = 28\n",
    "cambodia    = 32\n",
    "east_timor  = 56\n",
    "hong_kong   = 86\n",
    "indonesia   = 90\n",
    "japan       = 98\n",
    "north_korea = 103\n",
    "south_korea = 104\n",
    "laos        = 108\n",
    "macau       = 117\n",
    "malaysia    = 121\n",
    "philippines = 155\n",
    "singapore   = 174\n",
    "vietnam     = 210"
   ]
  },
  {
   "cell_type": "code",
   "execution_count": null,
   "metadata": {
    "scrolled": false
   },
   "outputs": [],
   "source": [
    "# File name\n",
    "file = '..\\WDIW Dataset.xlsx'"
   ]
  },
  {
   "cell_type": "code",
   "execution_count": null,
   "metadata": {
    "code_folding": [
     0
    ],
    "deletable": false,
    "editable": false,
    "scrolled": false
   },
   "outputs": [],
   "source": [
    "# Import Data and Identify Missing Value #####################################\n",
    "# Read dataset\n",
    "df = pd.read_excel(file)\n",
    "\n",
    "# Set target dataset and the world data\n",
    "data = df[df['Cool Name'] == 'Optimus Prime']\n",
    "world = df[df['Cool Name'] == 'Sentinel Prime']"
   ]
  },
  {
   "cell_type": "code",
   "execution_count": null,
   "metadata": {
    "code_folding": [
     0
    ],
    "deletable": false,
    "editable": false
   },
   "outputs": [],
   "source": [
    "## Print total missing value\n",
    "print(f'Total values       : {data.count().sum()}')\n",
    "print(f'Total missing value: {data.isnull().sum().sum()}')\n",
    "\n",
    "# Rank the missing value\n",
    "missing_data = data.isnull().sum()\n",
    "print('\\nMissing value ranking by column:\\n')\n",
    "print(missing_data.sort_values(ascending = False).head(n = 35))"
   ]
  },
  {
   "cell_type": "code",
   "execution_count": null,
   "metadata": {
    "code_folding": [
     0
    ],
    "deletable": false,
    "editable": false
   },
   "outputs": [],
   "source": [
    "## Change the column names\n",
    "data.columns = column_names\n",
    "world.columns = column_names"
   ]
  },
  {
   "cell_type": "code",
   "execution_count": null,
   "metadata": {
    "code_folding": [
     0
    ],
    "deletable": false,
    "editable": false
   },
   "outputs": [],
   "source": [
    "## Flag missing values to new columns\n",
    "for col in data:\n",
    "    if data[col].isnull().any():\n",
    "        data['m_' + col] = data[col].isnull().astype(int)\n",
    "\n",
    "data"
   ]
  },
  {
   "cell_type": "code",
   "execution_count": null,
   "metadata": {
    "code_folding": [
     0
    ],
    "deletable": false,
    "editable": false
   },
   "outputs": [],
   "source": [
    "## Create revised data to prevent changing the original dataframe\n",
    "revised_data = data.copy()"
   ]
  },
  {
   "cell_type": "code",
   "execution_count": null,
   "metadata": {
    "code_folding": [
     0
    ],
    "deletable": false,
    "editable": false
   },
   "outputs": [],
   "source": [
    "# Check with Economic Policy & Debt ##########################################\n",
    "\n",
    "# Get data\n",
    "eco_debt = data[[code, name, gdp_agricuture, gdp_industry, gdp_services, gdp_p, gdp_growth]]\n",
    "\n",
    "# Print Info to check data type\n",
    "print(eco_debt.info())\n",
    "\n",
    "# Print statistic desciption, *** describe not include Null value\n",
    "print(eco_debt.describe().round(2))\n",
    "\n",
    "# Print number of null value\n",
    "print(\"\\nNumber of Null Data: \")\n",
    "print(eco_debt.isnull().sum())\n",
    "\n",
    "# Print sum of all percentage\n",
    "#print(\"\\nTotal Percentage Combining All Industries: \")\n",
    "#print(eco_debt[:][gdp_agricuture] + eco_debt[:][gdp_industry] + eco_debt[:][gdp_services])\n",
    "\n",
    "# First chart: try to plot group barchart to compare GDP percentage\n",
    "## Re-arrage data to plot in group bar-chart\n",
    "melt = pd.melt(eco_debt[[name, gdp_agricuture, gdp_industry, gdp_services]], \n",
    "               id_vars=name, \n",
    "               var_name='industry', \n",
    "               value_name='gdp_percent')\n",
    "\n",
    "## Plot GDP percentage\n",
    "sns.catplot(x=name, y='gdp_percent', data=melt, hue='industry', kind='bar', aspect=2)\n",
    "plt.xticks(rotation='vertical')\n",
    "plt.title('GDP Value Added (%)')\n",
    "plt.show()\n",
    "\n",
    "# Second chart: plot barchart for GDP in USD\n",
    "sns.barplot(x=name, y=gdp_p, data=eco_debt)\n",
    "plt.xticks(rotation='vertical')\n",
    "plt.title('Total GDP (USD)')\n",
    "plt.show()\n",
    "\n",
    "# Third chart: plot barchart for GDP growth in percentage\n",
    "sns.barplot(x=name, y=gdp_growth, data=eco_debt)\n",
    "plt.xticks(rotation='vertical')\n",
    "plt.title('GDP Growth (%)')\n",
    "plt.show()"
   ]
  },
  {
   "cell_type": "code",
   "execution_count": null,
   "metadata": {
    "code_folding": [
     0
    ],
    "deletable": false,
    "editable": false
   },
   "outputs": [],
   "source": [
    "## Find missing value for Macau GDP \n",
    "\n",
    "# Actually when combine 3 types of GDP, should sum up to 100%\n",
    "mac_industry_services = eco_debt.loc[macau , gdp_industry] + eco_debt.loc[macau, gdp_services]\n",
    "print(f\"Sum of Industry GDP and Services GDP: {mac_industry_services}%\")\n",
    "print(f\"Initial estimated Agriculture GDP: {100-mac_industry_services}%\")\n",
    "\n",
    "# However, from CIA World Factbook \n",
    "# (https://www.cia.gov/library/publications/resources/the-world-factbook/fields/214.html#MC)\n",
    "# \"Only 2% of land area is cultivated, mainly by vegetable growers; \n",
    "# fishing, mostly for crustaceans, is important; some of the catch is exported to Hong Kong\"\n",
    "# Plus, many sources also indicate that the Agriculture GDP is 0.0% (with one decimal point).\n",
    "# We assume that there is a chance that the Agriculture (% in GDP) of Macau is 0.00-0.04% \n",
    "# because the number can be rouded up to 0.0%. \n",
    "\n",
    "# Let try with 0% for now\n",
    "mac_est_agriculture = 0\n",
    "print(f\"Final estimated Agriculture GDP: {mac_est_agriculture}%\")"
   ]
  },
  {
   "cell_type": "code",
   "execution_count": null,
   "metadata": {
    "code_folding": [
     0
    ],
    "deletable": false,
    "editable": false
   },
   "outputs": [],
   "source": [
    "## Find missing value for North Korea GDP \n",
    "\n",
    "# We don't have any information to be able to rely on when trying to fill the \n",
    "# missing value in North Korea because it has unique way of goverment and management.\n",
    "# Plus, the World Bank doesn't have any information for North Korean GDP.\n",
    "# However, accorind to North Korea Economy Watch (https://www.nkeconwatch.com/category/organizaitons/bank-of-korea/),\n",
    "# North Korea does not disclose any statistics on its economy.\n",
    "# So, we found that Bank of Korea (https://www.bok.or.kr/portal/main/contents.do?menuNo=200091)\n",
    "# and Trading Economics (https://tradingeconomics.com/north-korea/gdp) have the data. \n",
    "# Hence, we will use those data as filling.\n",
    "\n",
    "# Bank of Korea\n",
    "prk_agriculture = 22.8\n",
    "prk_industry = 40.4\n",
    "prk_services = 31.7\n",
    "prk_gdp_usd = 17.36*1000000000 # GDP in billions USD\n",
    "prk_gdp_growth = -3.5"
   ]
  },
  {
   "cell_type": "code",
   "execution_count": null,
   "metadata": {
    "code_folding": [
     0
    ],
    "deletable": false,
    "editable": false
   },
   "outputs": [],
   "source": [
    "## Fill all null values\n",
    "\n",
    "# Fill null values\n",
    "revised_data.loc[macau , gdp_agricuture] = mac_est_agriculture\n",
    "revised_data.loc[north_korea , [gdp_agricuture, gdp_industry, gdp_services, gdp_p, gdp_growth] ] =\\\n",
    "    [prk_agriculture, prk_industry, prk_services, prk_gdp_usd, prk_gdp_growth]\n",
    "\n",
    "# Print number of null value\n",
    "print(\"Number of Null Data: \")\n",
    "print(revised_data.loc[:][eco_debt.columns].isnull().sum())"
   ]
  },
  {
   "cell_type": "code",
   "execution_count": null,
   "metadata": {
    "code_folding": [
     0
    ],
    "deletable": false,
    "editable": false
   },
   "outputs": [],
   "source": [
    "# Check with Private Sector and Public Sector ################################\n",
    "\n",
    "# Get data\n",
    "private_public = data[[code, name, gdp_trade, armed_forces, gdp_military, gdp_tax]]\n",
    "\n",
    "# Print Info to check data type\n",
    "print(private_public.info())\n",
    "\n",
    "# Print statistic desciption\n",
    "print(private_public.describe().round(2))\n",
    "\n",
    "# Print number of null value\n",
    "print(\"\\nNumber of Null Data: \")\n",
    "print(private_public.isnull().sum())\n",
    "\n",
    "# Below link helps us understand the concept why Merchandise trade (% in GDP) could be more than 100%.\n",
    "# (https://www.quora.com/What-does-it-mean-when-exports-or-imports-of-a-country-are-more-than-100-of-its-GDP)\n",
    "# More than 100% means they have done a lot of export.\n",
    "# Fist chart: plot barchart for GDP in USD\n",
    "sns.barplot(x=name, y=gdp_trade, data=private_public)\n",
    "plt.xticks(rotation='vertical')\n",
    "plt.title('Merchandise Trade (% of GDP)')\n",
    "plt.show()"
   ]
  },
  {
   "cell_type": "code",
   "execution_count": null,
   "metadata": {
    "code_folding": [
     0
    ],
    "deletable": false,
    "editable": false
   },
   "outputs": [],
   "source": [
    "## Find missing value for North Korea Merchandise Trade\n",
    "\n",
    "# Merchandise Trade (% of GDP) is a sum of merchandise import and export over\n",
    "# total GDP. The World Bank have merchandise import and export data of North Korea.\n",
    "# And from previous finding, we know the GDP of North Korea. \n",
    "# Note that all these data are in the same year, 2017.\n",
    "prk_import = 3781000000\n",
    "prk_export = 1770000000\n",
    "\n",
    "# Compute Merchandise Trade (% of GDP) of North Korea\n",
    "prk_gdp_trade = (prk_import + prk_export) * 100 / prk_gdp_usd"
   ]
  },
  {
   "cell_type": "code",
   "execution_count": null,
   "metadata": {
    "code_folding": [
     0
    ],
    "deletable": false,
    "editable": false
   },
   "outputs": [],
   "source": [
    "## Find missing value for Military Expenditure (% of GDP) \n",
    "\n",
    "# For Laos there are previous year value from The World Bank\n",
    "lao_military_data = {'year': ['1993', '1994', '1995', '1996', '1997', '1998', '1999',\n",
    "                              '2000', '2001', '2002', '2003', '2004', '2005', '2006', \n",
    "                              '2007', '2008', '2009', '2010', '2011', '2012', '2013'],\n",
    "                     gdp_military: [8.1, 7.5, 5.8, 4.2, 3.8, 2.6, 1.1, \n",
    "                                    0.8, 0.7, 0.6, 0.5, 0.4, 0.4, 0.3, \n",
    "                                    0.3, 0.3, 0.2, 0.2, 0.2, 0.2, 0.2]}\n",
    "lao_military_df = pd.DataFrame(lao_military_data)\n",
    "sns.lineplot(x='year', y=gdp_military, data=lao_military_df)\n",
    "plt.xticks(rotation='vertical')\n",
    "plt.title('Laos Military Expenditure (% of GDP) per Year')\n",
    "plt.show()\n",
    "\n",
    "# From the data, the last 5 year the expenditure % were remained the same.\n",
    "# Hence, we assume that this trend is remained.\n",
    "lao_gdp_military = 0.2\n",
    "\n",
    "# For North Korea, according to World Factbook (https://www.cia.gov/library/publications/the-world-factbook/geos/kn.html),\n",
    "# it spend a lot on military. And the World Bank has Military Expenditure value in local unit.\n",
    "# So, we compute the percentage as Military Expenditure devided by total GDP in local unit\n",
    "prk_gdp_military = 129800000000/(30882.30*1000000000) # Total GDP in local unit from Trading Economics\n",
    "\n",
    "# Why it is so small??? The figures for North Korea are as reported by North Korean Authorities. \n",
    "# They do not include investment in the arms industry and R&D in dual-use technology, \n",
    "# or various social welfare services provided through the military sector. "
   ]
  },
  {
   "cell_type": "code",
   "execution_count": null,
   "metadata": {
    "code_folding": [
     0
    ],
    "deletable": false,
    "editable": false
   },
   "outputs": [],
   "source": [
    "## Fill null values from found values\n",
    "revised_data.loc[north_korea , gdp_trade] = prk_gdp_trade\n",
    "revised_data.loc[laos, gdp_military] = lao_gdp_military\n",
    "revised_data.loc[north_korea, gdp_military] = prk_gdp_military\n",
    "\n",
    "# Print number of null value\n",
    "print(\"Number of Null Data After Filling Found Values: \")\n",
    "print(revised_data[private_public.columns].isnull().sum())"
   ]
  },
  {
   "cell_type": "code",
   "execution_count": null,
   "metadata": {
    "code_folding": [
     0
    ],
    "deletable": false,
    "editable": false
   },
   "outputs": [],
   "source": [
    "## Find the rest missing values with imputation \n",
    "\n",
    "### Armed forces personnel (% of total labor force)\n",
    "# 2 of 14 values in armed forces personnel column are null.\n",
    "print('Descriptive statistic of Armed forces personnel:')\n",
    "print(private_public[:][armed_forces].describe())\n",
    "\n",
    "# Data is quite skewed to the right, the mean is almost equal to the 3rd quantile,\n",
    "# so we decide to use median as filling.\n",
    "filled_armed_forces = private_public[:][armed_forces].median()\n",
    "\n",
    "\n",
    "### Military Expenditure (% of GDP)\n",
    "# 2 of 14 values in military expenditure column are null.\n",
    "print('\\nDescriptive statistic of Military Expenditure:')\n",
    "print(private_public[:][gdp_military].describe())\n",
    "\n",
    "# Since the data is not skewed much, we decide to use mean as a filling.\n",
    "filled_gdp_military = private_public[:][gdp_military].mean()\n",
    "\n",
    "\n",
    "### Tax Revenue (% of GDP)\n",
    "# 5 of 14 values in tax revenue column are null.\n",
    "print('\\nDescriptive statistic of Tax Revenue:')\n",
    "print(private_public[:][gdp_tax].describe())\n",
    "\n",
    "# Data is quite skew to the right, so we decide to use median value as filling.\n",
    "filled_gdp_tax = private_public[:][gdp_tax].median()\n"
   ]
  },
  {
   "cell_type": "code",
   "execution_count": null,
   "metadata": {
    "code_folding": [
     0
    ],
    "deletable": false,
    "editable": false
   },
   "outputs": [],
   "source": [
    "## Fill null values\n",
    "\n",
    "# Fill null values\n",
    "revised_data[[armed_forces]] = revised_data[[armed_forces]].fillna(filled_armed_forces)\n",
    "revised_data[[gdp_military]] = revised_data[[gdp_military]].fillna(filled_gdp_military)\n",
    "revised_data[[gdp_tax]]      = revised_data[[gdp_tax]].fillna(filled_gdp_tax)\n",
    "\n",
    "# Print number of null value\n",
    "print(\"Number of Null Data: \")\n",
    "print(revised_data[private_public.columns].isnull().sum())\n"
   ]
  },
  {
   "cell_type": "code",
   "execution_count": null,
   "metadata": {
    "code_folding": [
     0
    ],
    "deletable": false,
    "editable": false
   },
   "outputs": [],
   "source": [
    "# Check with Social Protection & Labor #######################################\n",
    "\n",
    "# Get data\n",
    "social_labor = data[[code, name, emp_agriculture, emp_industry, emp_services]]\n",
    "\n",
    "# Print Info to check data type\n",
    "print(social_labor.info())\n",
    "\n",
    "# Print statistic desciption\n",
    "print(social_labor.describe().round(2))\n",
    "\n",
    "# Print number of null value\n",
    "print(\"\\nNumber of Null Data: \")\n",
    "print(social_labor.isnull().sum())\n",
    "\n",
    "# Print sum of all percentage\n",
    "print(\"\\nTotal Percentage Combining All Industries: \")\n",
    "print(social_labor[:][emp_agriculture] + social_labor[:][emp_industry] + social_labor[:][emp_services])\n",
    "\n",
    "# Re-arrage data to plot in group bar-chart\n",
    "melt = pd.melt(social_labor[[name, emp_agriculture, emp_industry, emp_services]], \n",
    "               id_vars=name, \n",
    "               var_name='industry', \n",
    "               value_name='emp_percent')\n",
    "\n",
    "## Plot employment percentage\n",
    "sns.catplot(x=name, y='emp_percent', data=melt, hue='industry', kind='bar', aspect=2)\n",
    "plt.xticks(rotation='vertical')\n",
    "plt.title('Employment (%)')\n",
    "plt.show()"
   ]
  },
  {
   "cell_type": "code",
   "execution_count": null,
   "metadata": {
    "code_folding": [],
    "scrolled": false
   },
   "outputs": [],
   "source": [
    "# PK: Test code for graph ####################################################\n",
    "\n",
    "# Print sum of GDP added values\n",
    "print(\"\\nTotal GDP Added Values Combining All Industries: \")\n",
    "print(revised_data[:][gdp_agricuture] \n",
    "      + revised_data[:][gdp_industry] \n",
    "      + revised_data[:][gdp_services])\n",
    "\n",
    "print('^ \\n')\n",
    "\n",
    "# Plot group barchart to compare GDP percentage\n",
    "## Re-arrage data to plot in group bar-chart\n",
    "melt = pd.melt(revised_data[[name, gdp_agricuture, gdp_industry, gdp_services]], \n",
    "               id_vars=name, \n",
    "               var_name='industry', \n",
    "               value_name='gdp_percent')\n",
    "\n",
    "## Plot GDP percentage\n",
    "sns.catplot(x=name, y='gdp_percent', data=melt, hue='industry', kind='bar', aspect=2)\n",
    "plt.xticks(rotation='vertical')\n",
    "plt.title('GDP Value Added (%)')\n",
    "plt.show()     \n",
    "\n",
    "## Count GDP added value by sector\n",
    "agri_count = 0\n",
    "indu_count = 0\n",
    "serv_count = 0\n",
    "for index, row in revised_data.iterrows():\n",
    "    max_value = max(row[gdp_agricuture], row[gdp_industry], row[gdp_services])\n",
    "    if max_value == row[gdp_agricuture]:\n",
    "        agri_count += 1\n",
    "        \n",
    "    elif max_value == row[gdp_industry]:\n",
    "        indu_count += 1\n",
    "        \n",
    "    elif max_value == row[gdp_services]:\n",
    "        serv_count += 1\n",
    "print(f'^ Argiculture: {agri_count},  Industry: {indu_count},  Services: {serv_count}\\n')\n",
    "\n",
    "\n",
    "# Plot barchart for GDP in USD\n",
    "sns.barplot(x=name, y=gdp_p, data=revised_data)\n",
    "plt.xticks(rotation='vertical')\n",
    "plt.title('Total GDP (USD)')\n",
    "plt.show()        \n",
    "\n",
    "print('^ Nothing special, 1st = jpn, 2nd = kor, 3nd = idn\\n')\n",
    "\n",
    "\n",
    "# Third chart: plot barchart for GDP growth in percentage\n",
    "sns.barplot(x=name, y=gdp_growth, data=revised_data)\n",
    "plt.xticks(rotation='vertical')\n",
    "plt.title('GDP Growth (%)')\n",
    "plt.show()\n",
    "\n",
    "print('^ Nothing special\\n')\n",
    "\n",
    "## Try to see if there is any relation between Employment and GDP\n",
    "sns.scatterplot(x=emp_agriculture, y=gdp_agricuture, data=revised_data)\n",
    "sns.scatterplot(x=emp_agriculture, y=gdp_agricuture, data=world)\n",
    "plt.show()\n",
    "\n",
    "sns.scatterplot(x=emp_industry, y=gdp_industry, data=revised_data)\n",
    "sns.scatterplot(x=emp_industry, y=gdp_industry, data=world)\n",
    "plt.show()\n",
    "\n",
    "sns.scatterplot(x=emp_services, y=gdp_services, data=revised_data)\n",
    "sns.scatterplot(x=emp_services, y=gdp_services, data=world)\n",
    "plt.show()\n"
   ]
  },
  {
   "cell_type": "code",
   "execution_count": null,
   "metadata": {
    "code_folding": [
     0
    ],
    "scrolled": false
   },
   "outputs": [],
   "source": [
    "# Checking with Environment ##################################################\n",
    "\n",
    "# Get data\n",
    "env_pop = data[[code, \n",
    "                name, \n",
    "                population_dense, \n",
    "                population_l_city, \n",
    "                population_slum , \n",
    "                population_rural, \n",
    "                population_urban, \n",
    "                population_urban_growth, \n",
    "                area]]\n",
    "\n",
    "\n",
    "# Print Info to check data type\n",
    "print(env_pop.info())\n",
    "\n",
    "# Print statistic desciption, *** describe not include Null value\n",
    "print(env_pop.describe().round(2))\n",
    "\n",
    "# Print number of null value\n",
    "print(\"\\nNumber of Null Data: \")\n",
    "print(env_pop.isnull().sum())\n",
    "\n",
    "\n",
    "# Print sum of all percentage\n",
    "print(\"\\nTotal Percentage Combining All population: \")\n",
    "print(env_pop[:][population_l_city] \n",
    "      + env_pop[:][population_slum] \n",
    "      + env_pop[:][population_rural] \n",
    "      + env_pop[:][population_urban])\n",
    "\n",
    "# First chart: try to plot group barchart to compare Population percentage\n",
    "## Re-arrage data to plot in group bar-chart\n",
    "melt = pd.melt(env_pop[[name, population_l_city, population_slum , population_rural, population_urban]], \n",
    "               id_vars=name, \n",
    "               var_name='population', \n",
    "               value_name='population_percent')\n",
    "\n",
    "## Plot Population percentage\n",
    "sns.catplot(x=name, y='population_percent', data=melt, hue='population', kind='bar', aspect=2)\n",
    "plt.xticks(rotation='vertical')\n",
    "plt.title('Population Value (%)')\n",
    "plt.show()\n",
    "\n",
    "# Second chart: plot barchart for Population Dense (people per sq. km of land area) and Area (sq. km)\n",
    "## Re-arrange data to plot in group bar-chart\n",
    "melt = pd.melt(env_pop[[name, population_dense, area]],\n",
    "               id_vars = name,\n",
    "               var_name = 'density',\n",
    "               value_name = 'area')\n",
    "\n",
    "## Plot Density in sq. km (double check)\n",
    "sns.catplot(x=name, y='area', data=melt, hue='density', kind='bar', aspect = 2)\n",
    "plt.xticks(rotation='vertical')\n",
    "plt.title('Population Density (sq. km)')\n",
    "plt.show()\n",
    "\n",
    "# Third chart: plot barchart for Urban growth in percentage\n",
    "sns.barplot(x=name, y=population_urban_growth, data=env_pop)\n",
    "plt.xticks(rotation='vertical')\n",
    "plt.title('Population Urban Growth (%)')\n",
    "plt.show()"
   ]
  },
  {
   "cell_type": "code",
   "execution_count": null,
   "metadata": {
    "code_folding": [
     0
    ],
    "scrolled": false
   },
   "outputs": [],
   "source": [
    "#Print number of null value in table \n",
    "print(\"\\nTable of Null Data: \")\n",
    "for col in env_pop:\n",
    "    if env_pop[col].isnull().any():\n",
    "        env_pop['m_' + col] = env_pop[col].isnull().astype(int)\n",
    "env_pop"
   ]
  },
  {
   "cell_type": "code",
   "execution_count": null,
   "metadata": {
    "code_folding": [
     0
    ],
    "scrolled": false
   },
   "outputs": [],
   "source": [
    "# Checking health ####\n",
    "\n",
    "# Get data\n",
    "health_pop = data[[code, name, ppp, population_young, population_adult , population_old, population_growth, population_female, population_male, population_total, prevalence_hiv, prevalence_undernourished, prevalence_underweight]]\n",
    "\n",
    "# Print Info to check data type\n",
    "print(health_pop.info())\n",
    "\n",
    "# Print statistic desciption, *** describe not include Null value\n",
    "print(health_pop.describe().round(2))\n",
    "\n",
    "# Print number of null value\n",
    "print(\"\\nNumber of Null Data: \")\n",
    "print(health_pop.isnull().sum())\n",
    "\n",
    "# Print sum of all percentage\n",
    "print(\"\\nTotal Percentage Combining All population: \")\n",
    "print(health_pop[:][population_young] + health_pop[:][population_adult] + health_pop[:][population_old] + health_pop[:][population_growth])\n",
    "\n",
    "# First chart: try to plot group barchart to compare Population percentage\n",
    "## Re-arrage data to plot in group bar-chart\n",
    "melt = pd.melt(health_pop[[name, population_young, population_adult, population_old, population_growth]], \n",
    "               id_vars=name, \n",
    "               var_name='population', \n",
    "               value_name='population_percent')\n",
    "\n",
    "## Plot Population percentage\n",
    "sns.catplot(x=name, y='population_percent', data=melt, hue='population', kind='bar', aspect=2)\n",
    "plt.xticks(rotation='vertical')\n",
    "plt.title('Population Value (%)')\n",
    "plt.show()\n",
    "\n",
    "#Second chart: try to plot group barchart to compare Prevalence percentage \n",
    "## Re-arrage data to plot in group bar-chart\n",
    "melt = pd.melt(health_pop[[name, prevalence_hiv, prevalence_undernourished, prevalence_underweight]], \n",
    "               id_vars=name, \n",
    "               var_name='prevalence', \n",
    "               value_name='prevalence_percent')\n",
    "\n",
    "## Plot prevalence of hiv, undernourished and underweight percentage\n",
    "sns.catplot(x=name, y='prevalence_percent', data=melt, hue='prevalence', kind='bar', aspect=2)\n",
    "plt.xticks(rotation='vertical')\n",
    "plt.title('Prevalence Value (%)')\n",
    "plt.show()\n",
    "\n",
    "# Third chart: plot barchart for Population Dense (people per sq. km of land area) and Area (sq. km)\n",
    "## Re-arrange data to plot in group bar-chart\n",
    "melt = pd.melt(health_pop[[name, population_female, population_male, population_total]],\n",
    "               id_vars = name,\n",
    "               var_name = 'population_gender',\n",
    "               value_name = 'population')\n",
    "\n",
    "## Plot Population by gender\n",
    "sns.catplot(x=name, y='population', data=melt, hue='population_gender', kind='bar', aspect = 2)\n",
    "plt.xticks(rotation='vertical')\n",
    "plt.title('Population by Gender')\n",
    "plt.show()\n",
    "\n",
    "# Fourth chart: plot barchart for PPP (USD)\n",
    "sns.barplot(x = name, y = ppp, data = health_pop)\n",
    "plt.xticks(rotation='vertical')\n",
    "plt.title('PPP (USD)')\n",
    "plt.show()"
   ]
  },
  {
   "cell_type": "code",
   "execution_count": null,
   "metadata": {
    "code_folding": [
     0
    ],
    "scrolled": true
   },
   "outputs": [],
   "source": [
    "#CLEANING DATA \n",
    "df1 = data[['ed_doctor','ed_lower_second', 'ed_post_second', 'ed_primary', 'ed_tertiary', 'ed_bechelor','ed_upper_second', 'ed_master','ed_doctor','literacy_adult','literacy_adult']]\n",
    "\n",
    "df1.describe()"
   ]
  },
  {
   "cell_type": "code",
   "execution_count": null,
   "metadata": {},
   "outputs": [],
   "source": []
  }
 ],
 "metadata": {
  "kernelspec": {
   "display_name": "Python 3",
   "language": "python",
   "name": "python3"
  },
  "language_info": {
   "codemirror_mode": {
    "name": "ipython",
    "version": 3
   },
   "file_extension": ".py",
   "mimetype": "text/x-python",
   "name": "python",
   "nbconvert_exporter": "python",
   "pygments_lexer": "ipython3",
   "version": "3.7.3"
  },
  "toc": {
   "base_numbering": 1,
   "nav_menu": {},
   "number_sections": true,
   "sideBar": true,
   "skip_h1_title": false,
   "title_cell": "Table of Contents",
   "title_sidebar": "Contents",
   "toc_cell": false,
   "toc_position": {},
   "toc_section_display": true,
   "toc_window_display": false
  },
  "varInspector": {
   "cols": {
    "lenName": 16,
    "lenType": 16,
    "lenVar": 40
   },
   "kernels_config": {
    "python": {
     "delete_cmd_postfix": "",
     "delete_cmd_prefix": "del ",
     "library": "var_list.py",
     "varRefreshCmd": "print(var_dic_list())"
    },
    "r": {
     "delete_cmd_postfix": ") ",
     "delete_cmd_prefix": "rm(",
     "library": "var_list.r",
     "varRefreshCmd": "cat(var_dic_list()) "
    }
   },
   "types_to_exclude": [
    "module",
    "function",
    "builtin_function_or_method",
    "instance",
    "_Feature"
   ],
   "window_display": false
  }
 },
 "nbformat": 4,
 "nbformat_minor": 2
}
